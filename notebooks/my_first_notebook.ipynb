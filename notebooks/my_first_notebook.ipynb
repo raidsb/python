{
 "cells": [
  {
   "cell_type": "code",
   "execution_count": 4,
   "id": "e45f084b-290f-428a-979a-556e530b096e",
   "metadata": {
    "jupyter": {
     "source_hidden": true
    },
    "scrolled": true
   },
   "outputs": [
    {
     "name": "stdout",
     "output_type": "stream",
     "text": [
      "Hi Jupyter\n"
     ]
    }
   ],
   "source": [
    "print(\"Hi Jupyter\")"
   ]
  },
  {
   "cell_type": "markdown",
   "id": "fc227cd8-6674-46b5-be0b-19aedef534c9",
   "metadata": {},
   "source": [
    "Learning about Float info"
   ]
  },
  {
   "cell_type": "code",
   "execution_count": 5,
   "id": "821b428d-0b65-452e-b224-e2165f602fe6",
   "metadata": {},
   "outputs": [
    {
     "data": {
      "text/plain": [
       "sys.float_info(max=1.7976931348623157e+308, max_exp=1024, max_10_exp=308, min=2.2250738585072014e-308, min_exp=-1021, min_10_exp=-307, dig=15, mant_dig=53, epsilon=2.220446049250313e-16, radix=2, rounds=1)"
      ]
     },
     "execution_count": 5,
     "metadata": {},
     "output_type": "execute_result"
    }
   ],
   "source": [
    "import sys\n",
    "sys.float_info"
   ]
  },
  {
   "cell_type": "code",
   "execution_count": 8,
   "id": "eb07f5bd-0223-4d23-9273-6197bb1d1e9f",
   "metadata": {},
   "outputs": [
    {
     "name": "stdout",
     "output_type": "stream",
     "text": [
      "<class 'float'>\n",
      "<class 'int'>\n"
     ]
    },
    {
     "data": {
      "text/plain": [
       "str"
      ]
     },
     "execution_count": 8,
     "metadata": {},
     "output_type": "execute_result"
    }
   ],
   "source": [
    "type(6/2)\n",
    "type(6//2)\n",
    "type(\"Hello, World!\")\n",
    "type(\"hello\" == \"world\")\n",
    "type(\"1001\")"
   ]
  },
  {
   "cell_type": "markdown",
   "id": "3166f68b-91df-4c75-a61f-b19886c5c70e",
   "metadata": {},
   "source": [
    "The code above prints only the last statement execution result"
   ]
  },
  {
   "cell_type": "code",
   "execution_count": 7,
   "id": "fbc10446-9eec-46dd-ad01-54a0a182fdc1",
   "metadata": {},
   "outputs": [
    {
     "data": {
      "text/plain": [
       "1234.56"
      ]
     },
     "execution_count": 7,
     "metadata": {},
     "output_type": "execute_result"
    }
   ],
   "source": [
    "float(\"1234.56\")"
   ]
  },
  {
   "cell_type": "code",
   "execution_count": 9,
   "id": "9bd1bb53-35b2-4d69-85d9-680f4f691ce4",
   "metadata": {},
   "outputs": [
    {
     "data": {
      "text/plain": [
       "int"
      ]
     },
     "execution_count": 9,
     "metadata": {},
     "output_type": "execute_result"
    }
   ],
   "source": [
    "type(1)"
   ]
  },
  {
   "cell_type": "code",
   "execution_count": 11,
   "id": "304bc136-84d2-40eb-b337-43d0fa588c51",
   "metadata": {},
   "outputs": [
    {
     "data": {
      "text/plain": [
       "'123-456-7890'"
      ]
     },
     "execution_count": 11,
     "metadata": {},
     "output_type": "execute_result"
    }
   ],
   "source": [
    "str(\"123-456-7890\")"
   ]
  },
  {
   "cell_type": "code",
   "execution_count": null,
   "id": "f9d0e501-176a-4d4f-aaf8-dec9f4dba2fb",
   "metadata": {},
   "outputs": [],
   "source": []
  }
 ],
 "metadata": {
  "kernelspec": {
   "display_name": "Python 3 (ipykernel)",
   "language": "python",
   "name": "python3"
  },
  "language_info": {
   "codemirror_mode": {
    "name": "ipython",
    "version": 3
   },
   "file_extension": ".py",
   "mimetype": "text/x-python",
   "name": "python",
   "nbconvert_exporter": "python",
   "pygments_lexer": "ipython3",
   "version": "3.12.1"
  }
 },
 "nbformat": 4,
 "nbformat_minor": 5
}
